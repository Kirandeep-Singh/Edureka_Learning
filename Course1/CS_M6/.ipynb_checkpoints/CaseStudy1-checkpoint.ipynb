{
 "cells": [
  {
   "cell_type": "code",
   "execution_count": null,
   "metadata": {},
   "outputs": [],
   "source": [
    "import matplotlib.pyplot as plt\n",
    "import pandas as pd\n",
    "import numpy as np\n",
    "import seaborn as sns"
   ]
  },
  {
   "cell_type": "code",
   "execution_count": null,
   "metadata": {},
   "outputs": [],
   "source": []
  },
  {
   "cell_type": "code",
   "execution_count": null,
   "metadata": {},
   "outputs": [],
   "source": []
  },
  {
   "cell_type": "code",
   "execution_count": null,
   "metadata": {},
   "outputs": [],
   "source": [
    "## Prob1\n",
    "data = pd.read_csv('Hurricanes.csv')\n",
    "plt.figure(figsize=(5,5))\n",
    "plt.bar(data['Year'], data['Hurricanes'])\n",
    "plt.xlabel('Year')\n",
    "plt.ylabel('No. of Hurricanes')\n",
    "plt.title('HUrricanes Vs Year')\n",
    "plt.xlim(1920,2000)\n",
    "plt.xticks(rotation=60)"
   ]
  },
  {
   "cell_type": "code",
   "execution_count": null,
   "metadata": {},
   "outputs": [],
   "source": [
    "## Problem 2\n",
    "data1 = pd.read_csv('CityTemps.csv', delimiter=',')\n",
    "plt.hist([data1['San Francisco'], data1['Melbourne']])"
   ]
  },
  {
   "cell_type": "code",
   "execution_count": null,
   "metadata": {},
   "outputs": [],
   "source": [
    "data2 = pd.read_csv('Cars2015.csv')\n",
    "dict={}\n",
    "data2.head()\n",
    "kd = pd.DataFrame()\n",
    "kd['Make'] = data2['Make']\n",
    "kd['Model'] = data2['Model']\n",
    "plt.figure(figsize=(20,20))\n",
    "req = pd.DataFrame()\n",
    "req['Make'] = kd['Make'].unique()\n",
    "tmp = kd.groupby('Make').count()\n",
    "\n",
    "dict = tmp.to_dict()['Model']\n",
    "\n",
    "plt.pie(tmp, labels=(dict.keys()), autopct='%d')"
   ]
  },
  {
   "cell_type": "code",
   "execution_count": null,
   "metadata": {},
   "outputs": [],
   "source": [
    "## Problem 4 in Case Study\n",
    "df = pd.read_csv('data.csv', delimiter=',')\n",
    "df.head()\n",
    "#df['unit price'].describe()\n",
    "#df1 = pd.DataFrame()\n",
    "\n",
    "df1['name'] = df['name']\n",
    "df1['net_price'] = df['net_price']\n",
    "df1['date'] = df['date']\n",
    "\n",
    "tmp = df1.groupby('name').sum()\n",
    "\n",
    "dict = tmp.to_dict()['net_price']\n",
    "\n",
    "x = [i for i in dict.keys()]\n",
    "y = [j for j in dict.values()]\n",
    "\n",
    "print (x)\n",
    "print (y)\n",
    "\n",
    "plt.figure(figsize=(10,10))\n",
    "plt.plot(x,y)\n",
    "plt.xlabel('Name of Customer')\n",
    "plt.ylabel('Total Sales')\n",
    "plt.title('Sales and Cusomter Data')\n",
    "plt.xticks(rotation=90)\n",
    "\n"
   ]
  },
  {
   "cell_type": "code",
   "execution_count": null,
   "metadata": {},
   "outputs": [],
   "source": [
    "## Problem 5.9 5.10 CS1\n",
    "\n",
    "dict = {'first_name': ['Jason', 'Molly', 'Tina', 'Jake', 'Amy'],\n",
    "'last_name': ['Miller', 'Jacobson', 'Ali', 'Milner', 'Cooze'],\n",
    "'female': [0, 1, 1, 0, 1],\n",
    "'age': [42, 52, 36, 24, 73],\n",
    "'preTestScore': [4, 24, 31, 2, 3],\n",
    "'postTestScore': [25, 94, 57, 62, 70]}\n",
    "\n",
    "df = pd.DataFrame(dict)\n",
    "plt.scatter(df['preTestScore'],df['postTestScore'], s=df.age)\n",
    "plt.scatter(df['preTestScore'],df['postTestScore'], c=df.female)\n"
   ]
  },
  {
   "cell_type": "code",
   "execution_count": null,
   "metadata": {},
   "outputs": [],
   "source": [
    "## Problem 5.1 to 5.8\n",
    "\n",
    "x = [1,2,3,4]\n",
    "y = [20,21,20.5,20.8]\n",
    "\n",
    "#plt.plot(x,y)\n",
    "\n",
    "plt.figure(figsize=(4,5), dpi=100)\n",
    "plt.plot(x,y,linestyle='dashed', marker='o', color='k')\n",
    "plt.xlabel('Value of X')\n",
    "plt.ylabel('Value of Y')\n",
    "#configure X axes\n",
    "plt.xlim(0.5,4.5)\n",
    "plt.xticks([1,2,3,4])\n",
    "#configure Y axes\n",
    "plt.ylim(19.8,21.2)\n",
    "plt.yticks([20, 21, 20.5, 20.8])\n",
    "\n",
    "#error data\n",
    "y_error = [0.12, 0.13, 0.2, 0.1]\n",
    "plt.rc(\"font\", size=14)\n",
    "#plt.errorbar(x,y, yerr=y_error ,linestyle='dashed', marker='o', color='k')\n",
    "\n"
   ]
  },
  {
   "cell_type": "code",
   "execution_count": 148,
   "metadata": {},
   "outputs": [
    {
     "data": {
      "text/plain": [
       "<matplotlib.collections.PathCollection at 0x1df86233888>"
      ]
     },
     "execution_count": 148,
     "metadata": {},
     "output_type": "execute_result"
    },
    {
     "data": {
      "image/png": "[encoded data removed]",
      "text/plain": [
       "<Figure size 432x288 with 2 Axes>"
      ]
     },
     "metadata": {
      "needs_background": "light"
     },
     "output_type": "display_data"
    }
   ],
   "source": [
    "## Problem 5.1 to 5.8\n",
    "\n",
    "x = [1,2,3,4]\n",
    "y = [20,21,20.5,20.8]\n",
    "a = np.random.random(50)\n",
    "b = np.random.random(50)\n",
    "\n",
    "fig, ax = plt.subplots(2)\n",
    "fig.suptitle('Vertically stacked subplots')\n",
    "ax[0].plot(x, y)\n",
    "\n",
    "#configure X axes\n",
    "\n",
    "#configure Y axes\n",
    "\n",
    "ax[1].scatter(a, b)\n",
    "\n",
    "\n",
    "\n"
   ]
  }
 ],
 "metadata": {
  "kernelspec": {
   "display_name": "Python 3",
   "language": "python",
   "name": "python3"
  }
 },
 "nbformat": 4,
 "nbformat_minor": 2
}

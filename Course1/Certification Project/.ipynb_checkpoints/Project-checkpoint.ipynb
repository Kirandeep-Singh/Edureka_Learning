{
 "cells": [
  {
   "cell_type": "code",
   "execution_count": 497,
   "metadata": {},
   "outputs": [
    {
     "data": {
      "text/html": [
       "<div>\n",
       "<style scoped>\n",
       "    .dataframe tbody tr th:only-of-type {\n",
       "        vertical-align: middle;\n",
       "    }\n",
       "\n",
       "    .dataframe tbody tr th {\n",
       "        vertical-align: top;\n",
       "    }\n",
       "\n",
       "    .dataframe thead th {\n",
       "        text-align: right;\n",
       "    }\n",
       "</style>\n",
       "<table border=\"1\" class=\"dataframe\">\n",
       "  <thead>\n",
       "    <tr style=\"text-align: right;\">\n",
       "      <th></th>\n",
       "      <th>lat</th>\n",
       "      <th>lng</th>\n",
       "      <th>desc</th>\n",
       "      <th>zip</th>\n",
       "      <th>title</th>\n",
       "      <th>timeStamp</th>\n",
       "      <th>twp</th>\n",
       "      <th>addr</th>\n",
       "      <th>e</th>\n",
       "    </tr>\n",
       "  </thead>\n",
       "  <tbody>\n",
       "    <tr>\n",
       "      <th>0</th>\n",
       "      <td>40.297876</td>\n",
       "      <td>-75.581294</td>\n",
       "      <td>REINDEER CT &amp; DEAD END;  NEW HANOVER; Station ...</td>\n",
       "      <td>19525.0</td>\n",
       "      <td>EMS: BACK PAINS/INJURY</td>\n",
       "      <td>2015-12-10 17:10:52</td>\n",
       "      <td>NEW HANOVER</td>\n",
       "      <td>REINDEER CT &amp; DEAD END</td>\n",
       "      <td>1</td>\n",
       "    </tr>\n",
       "    <tr>\n",
       "      <th>1</th>\n",
       "      <td>40.258061</td>\n",
       "      <td>-75.264680</td>\n",
       "      <td>BRIAR PATH &amp; WHITEMARSH LN;  HATFIELD TOWNSHIP...</td>\n",
       "      <td>19446.0</td>\n",
       "      <td>EMS: DIABETIC EMERGENCY</td>\n",
       "      <td>2015-12-10 17:29:21</td>\n",
       "      <td>HATFIELD TOWNSHIP</td>\n",
       "      <td>BRIAR PATH &amp; WHITEMARSH LN</td>\n",
       "      <td>1</td>\n",
       "    </tr>\n",
       "    <tr>\n",
       "      <th>2</th>\n",
       "      <td>40.121182</td>\n",
       "      <td>-75.351975</td>\n",
       "      <td>HAWS AVE; NORRISTOWN; 2015-12-10 @ 14:39:21-St...</td>\n",
       "      <td>19401.0</td>\n",
       "      <td>Fire: GAS-ODOR/LEAK</td>\n",
       "      <td>2015-12-10 14:39:21</td>\n",
       "      <td>NORRISTOWN</td>\n",
       "      <td>HAWS AVE</td>\n",
       "      <td>1</td>\n",
       "    </tr>\n",
       "    <tr>\n",
       "      <th>3</th>\n",
       "      <td>40.116153</td>\n",
       "      <td>-75.343513</td>\n",
       "      <td>AIRY ST &amp; SWEDE ST;  NORRISTOWN; Station 308A;...</td>\n",
       "      <td>19401.0</td>\n",
       "      <td>EMS: CARDIAC EMERGENCY</td>\n",
       "      <td>2015-12-10 16:47:36</td>\n",
       "      <td>NORRISTOWN</td>\n",
       "      <td>AIRY ST &amp; SWEDE ST</td>\n",
       "      <td>1</td>\n",
       "    </tr>\n",
       "    <tr>\n",
       "      <th>4</th>\n",
       "      <td>40.251492</td>\n",
       "      <td>-75.603350</td>\n",
       "      <td>CHERRYWOOD CT &amp; DEAD END;  LOWER POTTSGROVE; S...</td>\n",
       "      <td>NaN</td>\n",
       "      <td>EMS: DIZZINESS</td>\n",
       "      <td>2015-12-10 16:56:52</td>\n",
       "      <td>LOWER POTTSGROVE</td>\n",
       "      <td>CHERRYWOOD CT &amp; DEAD END</td>\n",
       "      <td>1</td>\n",
       "    </tr>\n",
       "  </tbody>\n",
       "</table>\n",
       "</div>"
      ],
      "text/plain": [
       "         lat        lng                                               desc  \\\n",
       "0  40.297876 -75.581294  REINDEER CT & DEAD END;  NEW HANOVER; Station ...   \n",
       "1  40.258061 -75.264680  BRIAR PATH & WHITEMARSH LN;  HATFIELD TOWNSHIP...   \n",
       "2  40.121182 -75.351975  HAWS AVE; NORRISTOWN; 2015-12-10 @ 14:39:21-St...   \n",
       "3  40.116153 -75.343513  AIRY ST & SWEDE ST;  NORRISTOWN; Station 308A;...   \n",
       "4  40.251492 -75.603350  CHERRYWOOD CT & DEAD END;  LOWER POTTSGROVE; S...   \n",
       "\n",
       "       zip                    title            timeStamp                twp  \\\n",
       "0  19525.0   EMS: BACK PAINS/INJURY  2015-12-10 17:10:52        NEW HANOVER   \n",
       "1  19446.0  EMS: DIABETIC EMERGENCY  2015-12-10 17:29:21  HATFIELD TOWNSHIP   \n",
       "2  19401.0      Fire: GAS-ODOR/LEAK  2015-12-10 14:39:21         NORRISTOWN   \n",
       "3  19401.0   EMS: CARDIAC EMERGENCY  2015-12-10 16:47:36         NORRISTOWN   \n",
       "4      NaN           EMS: DIZZINESS  2015-12-10 16:56:52   LOWER POTTSGROVE   \n",
       "\n",
       "                         addr  e  \n",
       "0      REINDEER CT & DEAD END  1  \n",
       "1  BRIAR PATH & WHITEMARSH LN  1  \n",
       "2                    HAWS AVE  1  \n",
       "3          AIRY ST & SWEDE ST  1  \n",
       "4    CHERRYWOOD CT & DEAD END  1  "
      ]
     },
     "execution_count": 497,
     "metadata": {},
     "output_type": "execute_result"
    }
   ],
   "source": [
    "import pandas as pd\n",
    "import numpy as np\n",
    "import matplotlib.pyplot as plt\n",
    "import seaborn as sns\n",
    "\n",
    "df = pd.read_csv('DataSet.csv')\n",
    "df.head()"
   ]
  },
  {
   "cell_type": "code",
   "execution_count": 498,
   "metadata": {},
   "outputs": [
    {
     "name": "stdout",
     "output_type": "stream",
     "text": [
      "TOP 10 ZIP Codes are below\n",
      "Zip Code is 19401 and Count is 18401\n",
      "Zip Code is 19464 and Count is 17937\n",
      "Zip Code is 19403 and Count is 13366\n",
      "Zip Code is 19446 and Count is 12828\n",
      "Zip Code is 19406 and Count is 8820\n",
      "Zip Code is 19002 and Count is 8367\n",
      "Zip Code is 19468 and Count is 7860\n",
      "Zip Code is 19046 and Count is 7340\n",
      "Zip Code is 19454 and Count is 7274\n",
      "Zip Code is 19090 and Count is 6999\n",
      "Zip Code 19446 is present in DataSet and corresponding Count is 12828\n",
      "Zip Code 19090 is present in DataSet and corresponding Count is 6999\n"
     ]
    }
   ],
   "source": [
    "### Problem 1 ###\n",
    "count={}\n",
    "for i in df['zip'].fillna(0):\n",
    "    if i in count.keys():\n",
    "        count[int(i)] += 1\n",
    "    else:\n",
    "        count[int(i)] = 1\n",
    "\n",
    "del count[0]\n",
    "\n",
    "new = sorted(count.items(), key=lambda x: x[1], reverse=True)\n",
    "\n",
    "print ('TOP 10 ZIP Codes are below')\n",
    "for i in range(0,10):\n",
    "    print ('Zip Code is {} and Count is {}'.format(new[i][0], new[i][1]))\n",
    "    \n",
    "list1 = [19446, 19090]\n",
    "\n",
    "for i in new:\n",
    "    if i[0] in list1:\n",
    "        print (\"Zip Code {} is present in DataSet and corresponding Count is {}\".format(i[0], i[1]))\n"
   ]
  },
  {
   "cell_type": "code",
   "execution_count": 499,
   "metadata": {},
   "outputs": [
    {
     "name": "stdout",
     "output_type": "stream",
     "text": [
      "Top 4 Towns with max 911 calls\n",
      "Town name is LOWER MERION and Count of Calls is 22886\n",
      "Town name is ABINGTON and Count of Calls is 16379\n",
      "Town name is NORRISTOWN and Count of Calls is 15421\n",
      "Town name is UPPER MERION and Count of Calls is 14015\n",
      "Given Town LOWER POTTSGROVE is present in DataSet and Count is 4505\n",
      "Given Town NORRISTOWN is present in DataSet and Count is 15421\n",
      "Given Town HORSHAM is present in DataSet and Count is 7535\n",
      "Given Town ABINGTON is present in DataSet and Count is 16379\n"
     ]
    }
   ],
   "source": [
    "### Problem 2 ###\n",
    "\n",
    "count1 = {}\n",
    "for i in df['twp']:\n",
    "    if i in count1.keys():\n",
    "        count1[str(i)] += 1\n",
    "    else:\n",
    "        count1[str(i)] = 1\n",
    "\n",
    "count2 = sorted(count1.items(), key=lambda x:x[1], reverse=True)\n",
    "\n",
    "print (\"Top 4 Towns with max 911 calls\")\n",
    "for i in range(0,4):\n",
    "    print (\"Town name is {} and Count of Calls is {}\".format(count2[i][0], count2[i][1]))\n",
    "\n",
    "check = ['LOWER POTTSGROVE','NORRISTOWN','HORSHAM','ABINGTON']\n",
    "\n",
    "for i in check:\n",
    "    for j in count2:\n",
    "        #if i.lower() == j[0].lower():\n",
    "        if i == j[0]:\n",
    "            print (\"Given Town {} is present in DataSet and Count is {}\".format(i,j[1]))\n",
    "    "
   ]
  },
  {
   "cell_type": "code",
   "execution_count": 500,
   "metadata": {},
   "outputs": [
    {
     "name": "stdout",
     "output_type": "stream",
     "text": [
      "{'EMS': 133234, 'Fire': 39909, 'Traffic': 93400}\n",
      "[('EMS', 133234), ('Traffic', 93400), ('Fire', 39909)]\n"
     ]
    },
    {
     "data": {
      "text/plain": [
       "{'EMS': 133234, 'Traffic': 93400, 'Fire': 39909}"
      ]
     },
     "execution_count": 500,
     "metadata": {},
     "output_type": "execute_result"
    }
   ],
   "source": [
    "### Problem 3 ###\n",
    "\n",
    "count3 = {}\n",
    "\n",
    "newdf = pd.DataFrame()\n",
    "\n",
    "#newdf = df[df['title']]\n",
    "\n",
    "for i in df['title']:\n",
    "    if i.split(':')[0] in count3.keys():\n",
    "        count3[str(i.split(':')[0])] += 1\n",
    "    else:\n",
    "        count3[str(i.split(':')[0])] = 1\n",
    "\n",
    "print (count3)\n",
    "\n",
    "\n",
    "count4 = sorted(count3.items(), key=lambda x:x[1], reverse=True)\n",
    "\n",
    "print (count4)\n",
    "\n",
    "dict1 = {}\n",
    "for i in count4:\n",
    "    dict1[i[0]] = i[1]\n",
    "\n",
    "dict1\n"
   ]
  },
  {
   "cell_type": "code",
   "execution_count": 502,
   "metadata": {},
   "outputs": [
    {
     "data": {
      "text/plain": [
       "([0, 1, 2], <a list of 3 Text xticklabel objects>)"
      ]
     },
     "execution_count": 502,
     "metadata": {},
     "output_type": "execute_result"
    },
    {
     "data": {
      "image/png": "[encoded data removed]",
      "text/plain": [
       "<Figure size 720x720 with 1 Axes>"
      ]
     },
     "metadata": {},
     "output_type": "display_data"
    }
   ],
   "source": [
    "### Prob 4 ###\n",
    "\n",
    "lt1=[]\n",
    "lt2=[]\n",
    "for i in dict1.keys():\n",
    "    lt1.append(i.strip('-'))\n",
    "for i in dict1.values():\n",
    "    lt2.append(i)\n",
    "    \n",
    "plt.figure(figsize=(10,10))\n",
    "plt.xlabel('Name of Emergency')\n",
    "plt.ylabel('Count of Calls')\n",
    "plt.bar(lt1, lt2)\n",
    "plt.xticks(rotation=90)"
   ]
  },
  {
   "cell_type": "code",
   "execution_count": 503,
   "metadata": {},
   "outputs": [
    {
     "data": {
      "text/plain": [
       "('Friday', 19938)"
      ]
     },
     "execution_count": 503,
     "metadata": {},
     "output_type": "execute_result"
    }
   ],
   "source": [
    "### Problem 5 ####\n",
    "import datetime\n",
    "import calendar\n",
    "df2=pd.DataFrame()\n",
    "\n",
    "df2 = df[['title','timeStamp']]\n",
    "df3 = pd.DataFrame()\n",
    "\n",
    "df3 = df2[df2['title'].str.startswith('EMS')]\n",
    "\n",
    "countdict = {}\n",
    "\n",
    "def convert(date):\n",
    "    born = datetime.datetime.strptime(date, '%Y-%m-%d').weekday() \n",
    "    return (calendar.day_name[born])\n",
    "    \n",
    "\n",
    "for i in df3['timeStamp']:\n",
    "    day = convert(i.split()[0])\n",
    "    if day in countdict.keys():\n",
    "        countdict[day] += 1\n",
    "    else:\n",
    "        countdict[day] = 1\n",
    "\n",
    "sortdict = sorted(countdict.items(), key=lambda x:x[1], reverse=True)\n",
    "sortdict[0]"
   ]
  },
  {
   "cell_type": "code",
   "execution_count": 302,
   "metadata": {},
   "outputs": [
    {
     "data": {
      "text/plain": [
       "{'Monday': {'EMS': 19389, 'Fire': 5817, 'Traffic': 13797},\n",
       " 'Tuesday': {'EMS': 19575, 'Traffic': 14867, 'Fire': 5846},\n",
       " 'Wednesday': {'Fire': 5988, 'Traffic': 14807, 'EMS': 19422},\n",
       " 'Thursday': {'EMS': 19297, 'Fire': 5767, 'Traffic': 14613},\n",
       " 'Friday': {'EMS': 19938, 'Traffic': 14945, 'Fire': 5823},\n",
       " 'Saturday': {'EMS': 18229, 'Fire': 5464, 'Traffic': 11524},\n",
       " 'Sunday': {'EMS': 17384, 'Traffic': 8847, 'Fire': 5204}}"
      ]
     },
     "execution_count": 302,
     "metadata": {},
     "output_type": "execute_result"
    }
   ],
   "source": [
    "### Problem 6 This is done just for my own practice to get day wise counts of all calls ####\n",
    "import datetime\n",
    "import calendar\n",
    "df2=pd.DataFrame()\n",
    "\n",
    "df2 = df[['title','timeStamp']]\n",
    "\n",
    "dic2 = {}\n",
    "\n",
    "daylist = ['Monday','Tuesday','Wednesday','Thursday','Friday','Saturday','Sunday']\n",
    "\n",
    "for i in daylist:\n",
    "    dic1 = {}\n",
    "    for j,k in df2.iterrows():\n",
    "        day = convert(k['timeStamp'].split()[0])\n",
    "        if i == day:\n",
    "            title = k['title'].split(':')[0]\n",
    "            if title in dic1.keys():\n",
    "                dic1[title] += 1\n",
    "            else: \n",
    "                dic1[title] = 1\n",
    "    dic2[i] = dic1\n",
    "\n",
    "dic2\n"
   ]
  },
  {
   "cell_type": "code",
   "execution_count": 323,
   "metadata": {},
   "outputs": [
    {
     "data": {
      "text/plain": [
       "{'Monday': {'EMS': 19389, 'Fire': 5817, 'Traffic': 13797},\n",
       " 'Tuesday': {'EMS': 19575, 'Traffic': 14867, 'Fire': 5846},\n",
       " 'Wednesday': {'Fire': 5988, 'Traffic': 14807, 'EMS': 19422},\n",
       " 'Thursday': {'EMS': 19297, 'Fire': 5767, 'Traffic': 14613},\n",
       " 'Friday': {'EMS': 19938, 'Traffic': 14945, 'Fire': 5823},\n",
       " 'Saturday': {'EMS': 18229, 'Fire': 5464, 'Traffic': 11524},\n",
       " 'Sunday': {'EMS': 17384, 'Traffic': 8847, 'Fire': 5204}}"
      ]
     },
     "execution_count": 323,
     "metadata": {},
     "output_type": "execute_result"
    }
   ],
   "source": [
    "dic2"
   ]
  },
  {
   "cell_type": "code",
   "execution_count": 452,
   "metadata": {},
   "outputs": [
    {
     "name": "stdout",
     "output_type": "stream",
     "text": [
      "Time Taken is 60.58898854255676\n"
     ]
    },
    {
     "data": {
      "text/plain": [
       "<matplotlib.axes._subplots.AxesSubplot at 0x1b3449ecac8>"
      ]
     },
     "execution_count": 452,
     "metadata": {},
     "output_type": "execute_result"
    },
    {
     "data": {
      "image/png": "[encoded data removed]",
      "text/plain": [
       "<Figure size 432x288 with 1 Axes>"
      ]
     },
     "metadata": {},
     "output_type": "display_data"
    }
   ],
   "source": [
    "### Problem 6 actual solution for countplot ####\n",
    "import time\n",
    "\n",
    "\n",
    "df3=pd.DataFrame()\n",
    "\n",
    "df3 = df[['title','timeStamp']]\n",
    "\n",
    "i=0\n",
    "daylist = ['Monday','Tuesday','Wednesday','Thursday','Friday','Saturday','Sunday']\n",
    "\n",
    "start = time.time()\n",
    "\n",
    "kdic = {'title':[], 'Day':[]}\n",
    "\n",
    "def func():\n",
    "    for i in range(0,len(df3)):\n",
    "        title = (df3.iloc[i][0].split(':')[0])\n",
    "        day = convert(df3.iloc[i][1].split()[0])\n",
    "        kdic['title'].append(title)\n",
    "        kdic['Day'].append(day)\n",
    "    kdic['Day'].sort()\n",
    "func()\n",
    "\n",
    "newdataf = pd.DataFrame.from_dict(kdic)\n",
    "\n",
    "print(\"Time Taken is {}\".format(time.time() - start))\n",
    "\n",
    "sns.set(style=\"darkgrid\")\n",
    "sns.countplot(data=newdataf, x='Day', hue='title')"
   ]
  },
  {
   "cell_type": "code",
   "execution_count": 496,
   "metadata": {},
   "outputs": [
    {
     "name": "stdout",
     "output_type": "stream",
     "text": [
      "Time Taken is 89.95123982429504\n"
     ]
    },
    {
     "data": {
      "image/png": "[encoded data removed]",
      "text/plain": [
       "<Figure size 1080x720 with 1 Axes>"
      ]
     },
     "metadata": {},
     "output_type": "display_data"
    }
   ],
   "source": [
    "### Problem Number 7 ###\n",
    "\n",
    "df4=pd.DataFrame()\n",
    "\n",
    "df4['title'] = df['title']\n",
    "\n",
    "start = time.time()\n",
    "kdic1 = {'title':[], 'Month':[]}\n",
    "df4['tmp'] = pd.to_datetime(df['timeStamp'])\n",
    "df4['Month'] = df4['tmp'].dt.strftime('%B')\n",
    "\n",
    "for i in range(0,len(df4)):\n",
    "    title = df4.iloc[i][0].strip(':')[0]\n",
    "    Month = df4.iloc[i][2]\n",
    "    kdic1['title'].append(title)\n",
    "    kdic1['Month'].append(Month)\n",
    "kdic1['Month'].sort()\n",
    "\n",
    "finaldf = pd.DataFrame.from_dict(kdic1)\n",
    "sns.set(style=\"darkgrid\")\n",
    "plt.figure(figsize=(15,10))\n",
    "\n",
    "ax = sns.countplot(data=finaldf, x='Month', hue='title')\n",
    "\n",
    "ax.set_xticklabels(ax.get_xticklabels(), rotation=90)\n",
    "\n",
    "print(\"Time Taken is {}\".format(time.time() - start))\n"
   ]
  },
  {
   "cell_type": "code",
   "execution_count": null,
   "metadata": {},
   "outputs": [],
   "source": [
    "\n"
   ]
  },
  {
   "cell_type": "code",
   "execution_count": null,
   "metadata": {},
   "outputs": [],
   "source": []
  }
 ],
 "metadata": {
  "kernelspec": {
   "display_name": "Python 3",
   "language": "python",
   "name": "python3"
  },
  "language_info": {
   "codemirror_mode": {
    "name": "ipython",
    "version": 3
   },
   "file_extension": ".py",
   "mimetype": "text/x-python",
   "name": "python",
   "nbconvert_exporter": "python",
   "pygments_lexer": "ipython3",
   "version": "3.7.4"
  }
 },
 "nbformat": 4,
 "nbformat_minor": 2
}
